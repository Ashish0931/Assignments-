{
  "nbformat": 4,
  "nbformat_minor": 0,
  "metadata": {
    "colab": {
      "name": "Untitled9.ipynb",
      "provenance": [],
      "collapsed_sections": [],
      "authorship_tag": "ABX9TyOS+4a9W1Mg1+WNmkr6TShs"
    },
    "kernelspec": {
      "name": "python3",
      "display_name": "Python 3"
    }
  },
  "cells": [
    {
      "cell_type": "markdown",
      "metadata": {
        "id": "5dbIkgvXG2eT",
        "colab_type": "text"
      },
      "source": [
        "Question 1 "
      ]
    },
    {
      "cell_type": "code",
      "metadata": {
        "id": "loMp5FqkG32q",
        "colab_type": "code",
        "colab": {
          "base_uri": "https://localhost:8080/",
          "height": 51
        },
        "outputId": "894d78f8-5754-43d1-bff3-7dbe114c98a5"
      },
      "source": [
        "def myreduce(fun,data):\n",
        "  static=0\n",
        "  ctr=0\n",
        "  for i in range(len(data)):\n",
        "    if static==i:\n",
        "      res=fun(data[i],data[i+1])\n",
        "      tota=res\n",
        "      ctr+=1\n",
        "    elif ctr==len(data):\n",
        "      return tota\n",
        "    else:\n",
        "      i=i+1\n",
        "      ctr=i\n",
        "      res=fun(tota,data[i])\n",
        "      tota=res \n",
        "      ctr+=1\n",
        "def sum(a,b):\n",
        "  return a+b\n",
        "def mult(num1,num2):\n",
        "  return num1*num2\n",
        "ls=[343,5,78,2,67,7]\n",
        "print(myreduce(sum,ls))\n",
        "print(myreduce(mult,ls))\n",
        "      \n",
        "  \n"
      ],
      "execution_count": 79,
      "outputs": [
        {
          "output_type": "stream",
          "text": [
            "502\n",
            "125476260\n"
          ],
          "name": "stdout"
        }
      ]
    },
    {
      "cell_type": "code",
      "metadata": {
        "id": "38VV61G6yn0K",
        "colab_type": "code",
        "colab": {
          "base_uri": "https://localhost:8080/",
          "height": 34
        },
        "outputId": "35562d62-13f1-471b-f2c4-9ffc162c749e"
      },
      "source": [
        "from functools import reduce\n",
        "reduce(sum,ls)"
      ],
      "execution_count": 80,
      "outputs": [
        {
          "output_type": "execute_result",
          "data": {
            "text/plain": [
              "502"
            ]
          },
          "metadata": {
            "tags": []
          },
          "execution_count": 80
        }
      ]
    },
    {
      "cell_type": "code",
      "metadata": {
        "id": "Z4QY1Uucu2_B",
        "colab_type": "code",
        "colab": {
          "base_uri": "https://localhost:8080/",
          "height": 34
        },
        "outputId": "edd84237-ea5e-4d03-c849-3c9331a4fee5"
      },
      "source": [
        "reduce(mult,ls)"
      ],
      "execution_count": 74,
      "outputs": [
        {
          "output_type": "execute_result",
          "data": {
            "text/plain": [
              "125476260"
            ]
          },
          "metadata": {
            "tags": []
          },
          "execution_count": 74
        }
      ]
    },
    {
      "cell_type": "markdown",
      "metadata": {
        "id": "aMWnE9qIy_UF",
        "colab_type": "text"
      },
      "source": [
        "Question 2 "
      ]
    },
    {
      "cell_type": "code",
      "metadata": {
        "id": "n6yP12fHcvyP",
        "colab_type": "code",
        "colab": {}
      },
      "source": [
        "def myfilter(func,sequence):\n",
        "    res=[]\n",
        "    for variable in sequence :\n",
        "        if func(variable):\n",
        "            res.append(variable)\n",
        "    return res"
      ],
      "execution_count": 30,
      "outputs": []
    },
    {
      "cell_type": "code",
      "metadata": {
        "id": "aEuz2zW1Ybyz",
        "colab_type": "code",
        "colab": {
          "base_uri": "https://localhost:8080/",
          "height": 34
        },
        "outputId": "e001f29a-7060-4ff2-8e72-363e87b24ee5"
      },
      "source": [
        "myList = [10, 25, 17, 9, 30, -5]\n",
        "myList2 = list(myfilter(lambda n : n%5 == 0, myList))\n",
        "print(myList2)"
      ],
      "execution_count": 31,
      "outputs": [
        {
          "output_type": "stream",
          "text": [
            "[10, 25, 30, -5]\n"
          ],
          "name": "stdout"
        }
      ]
    },
    {
      "cell_type": "markdown",
      "metadata": {
        "id": "fRpSwCUifVPJ",
        "colab_type": "text"
      },
      "source": [
        "Question 3"
      ]
    },
    {
      "cell_type": "code",
      "metadata": {
        "id": "GBgIYW-_ey4a",
        "colab_type": "code",
        "colab": {
          "base_uri": "https://localhost:8080/",
          "height": 34
        },
        "outputId": "0f48450c-a878-47a2-aa40-813162d33ef0"
      },
      "source": [
        "[a*i for a in ['x','y','z'] for i in range(1,5)]"
      ],
      "execution_count": 34,
      "outputs": [
        {
          "output_type": "execute_result",
          "data": {
            "text/plain": [
              "['x', 'xx', 'xxx', 'xxxx', 'y', 'yy', 'yyy', 'yyyy', 'z', 'zz', 'zzz', 'zzzz']"
            ]
          },
          "metadata": {
            "tags": []
          },
          "execution_count": 34
        }
      ]
    },
    {
      "cell_type": "code",
      "metadata": {
        "id": "U3fMXoB4fnmb",
        "colab_type": "code",
        "colab": {
          "base_uri": "https://localhost:8080/",
          "height": 34
        },
        "outputId": "3a9a752d-7fb9-427c-c5bb-49c965a199d2"
      },
      "source": [
        "[a*i for a in range(1,5) for i in ['x','y','z']]"
      ],
      "execution_count": 36,
      "outputs": [
        {
          "output_type": "execute_result",
          "data": {
            "text/plain": [
              "['x', 'y', 'z', 'xx', 'yy', 'zz', 'xxx', 'yyy', 'zzz', 'xxxx', 'yyyy', 'zzzz']"
            ]
          },
          "metadata": {
            "tags": []
          },
          "execution_count": 36
        }
      ]
    },
    {
      "cell_type": "code",
      "metadata": {
        "id": "H_SIMGUxhnAk",
        "colab_type": "code",
        "colab": {
          "base_uri": "https://localhost:8080/",
          "height": 34
        },
        "outputId": "d30865ad-250f-466d-a067-4a1082dcf6c5"
      },
      "source": [
        "data=[2,3,4,5,6,7,8]\n",
        "[[data[i+j]] for i in range(0,3)for j in range(0,3)]"
      ],
      "execution_count": 65,
      "outputs": [
        {
          "output_type": "execute_result",
          "data": {
            "text/plain": [
              "[[2], [3], [4], [3], [4], [5], [4], [5], [6]]"
            ]
          },
          "metadata": {
            "tags": []
          },
          "execution_count": 65
        }
      ]
    },
    {
      "cell_type": "code",
      "metadata": {
        "id": "nyjrQwYknsBa",
        "colab_type": "code",
        "colab": {
          "base_uri": "https://localhost:8080/",
          "height": 34
        },
        "outputId": "0ace2dae-8651-4c8b-b8e6-1200b12487b5"
      },
      "source": [
        "data=[2,3,4,5,6,7,8]\n",
        "[data[a:b]for a,b in zip([0,1,2,3],[4,5,6,8])]"
      ],
      "execution_count": 81,
      "outputs": [
        {
          "output_type": "execute_result",
          "data": {
            "text/plain": [
              "[[2, 3, 4, 5], [3, 4, 5, 6], [4, 5, 6, 7], [5, 6, 7, 8]]"
            ]
          },
          "metadata": {
            "tags": []
          },
          "execution_count": 81
        }
      ]
    },
    {
      "cell_type": "code",
      "metadata": {
        "id": "DfjVFHhbgiAY",
        "colab_type": "code",
        "colab": {
          "base_uri": "https://localhost:8080/",
          "height": 34
        },
        "outputId": "7d3a6b6f-3605-4409-80e9-442814cbb435"
      },
      "source": [
        "[(j,i) for i in (1,2,3) for j in (1,2,3)]"
      ],
      "execution_count": 43,
      "outputs": [
        {
          "output_type": "execute_result",
          "data": {
            "text/plain": [
              "[(1, 1), (2, 1), (3, 1), (1, 2), (2, 2), (3, 2), (1, 3), (2, 3), (3, 3)]"
            ]
          },
          "metadata": {
            "tags": []
          },
          "execution_count": 43
        }
      ]
    }
  ]
}