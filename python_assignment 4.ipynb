{
  "nbformat": 4,
  "nbformat_minor": 0,
  "metadata": {
    "colab": {
      "name": "Untitled9.ipynb",
      "provenance": [],
      "collapsed_sections": [],
      "authorship_tag": "ABX9TyMa2ngxHohHVnlA861tYPpJ"
    },
    "kernelspec": {
      "name": "python3",
      "display_name": "Python 3"
    }
  },
  "cells": [
    {
      "cell_type": "markdown",
      "metadata": {
        "id": "5dbIkgvXG2eT",
        "colab_type": "text"
      },
      "source": [
        "Question 1 "
      ]
    },
    {
      "cell_type": "code",
      "metadata": {
        "id": "1Banv2W18Tkz",
        "colab_type": "code",
        "colab": {}
      },
      "source": [
        "#defining parent class\n",
        "class T:\n",
        "  def __init__(self):\n",
        "    a=int(input(print(\"please enter a \")))\n",
        "    b=int(input(print(\"please enter b \")))\n",
        "    c=int(input(print(\"please enter c \")))\n",
        "    self.a=a\n",
        "    self.b=b\n",
        "    self.c=c\n",
        "#defining child class\n",
        "class area(T):\n",
        "  def __init__(self,*args):\n",
        "    super(area,self).__init__(*args)\n",
        "  def cal(self):\n",
        "    s=(self.a+self.b+self.c)/2\n",
        "    area=(s*(s-self.a)*(s-self.b)*(s-self.c)) ** 0.5\n",
        "    return area\n",
        "    "
      ],
      "execution_count": 22,
      "outputs": []
    },
    {
      "cell_type": "code",
      "metadata": {
        "id": "PaAuYpeXM7Sl",
        "colab_type": "code",
        "colab": {
          "base_uri": "https://localhost:8080/",
          "height": 136
        },
        "outputId": "22de2272-afd7-4871-d642-0fabe728570e"
      },
      "source": [
        "t1=area()\n",
        "print(t1.cal())"
      ],
      "execution_count": 21,
      "outputs": [
        {
          "output_type": "stream",
          "text": [
            "please enter a \n",
            "14\n",
            "please enter b \n",
            "15\n",
            "please enter c \n",
            "16\n",
            "96.557948921878\n"
          ],
          "name": "stdout"
        }
      ]
    },
    {
      "cell_type": "markdown",
      "metadata": {
        "id": "aMWnE9qIy_UF",
        "colab_type": "text"
      },
      "source": [
        "Question 2 "
      ]
    },
    {
      "cell_type": "code",
      "metadata": {
        "id": "Xi4eeheCN6cp",
        "colab_type": "code",
        "colab": {
          "base_uri": "https://localhost:8080/",
          "height": 34
        },
        "outputId": "821be1d3-4776-4ea3-b4fa-80da0b7678d2"
      },
      "source": [
        "def filter_long_words(data,n):\n",
        "  ls=[]\n",
        "  for i in data:\n",
        "    if len(i)>n:\n",
        "      ls.append(i)\n",
        "  return ls\n",
        "words=['test','dfdf','dgdfew','qwrhg','ff','ewrrty']\n",
        "filter_long_words(words,3)"
      ],
      "execution_count": null,
      "outputs": [
        {
          "output_type": "execute_result",
          "data": {
            "text/plain": [
              "['test', 'dfdf', 'dgdfew', 'qwrhg', 'ewrrty']"
            ]
          },
          "metadata": {
            "tags": []
          },
          "execution_count": 5
        }
      ]
    },
    {
      "cell_type": "markdown",
      "metadata": {
        "id": "3QFmCr4kTC3x",
        "colab_type": "text"
      },
      "source": [
        "Question 3"
      ]
    },
    {
      "cell_type": "code",
      "metadata": {
        "id": "uXFWqs3UTA7Z",
        "colab_type": "code",
        "colab": {
          "base_uri": "https://localhost:8080/",
          "height": 34
        },
        "outputId": "b5e46333-c02f-4be4-cf6d-240d616ffbef"
      },
      "source": [
        "def word_mapper(data):\n",
        "  ls=[]\n",
        "  for i in data:\n",
        "    ls.append(len(i))\n",
        "  return ls\n",
        "word_mapper(words)"
      ],
      "execution_count": null,
      "outputs": [
        {
          "output_type": "execute_result",
          "data": {
            "text/plain": [
              "[4, 4, 6, 5, 2, 6]"
            ]
          },
          "metadata": {
            "tags": []
          },
          "execution_count": 7
        }
      ]
    },
    {
      "cell_type": "markdown",
      "metadata": {
        "id": "XMu51cuKTLZI",
        "colab_type": "text"
      },
      "source": [
        "Question 4 "
      ]
    },
    {
      "cell_type": "code",
      "metadata": {
        "id": "RZEjXB5dS-vF",
        "colab_type": "code",
        "colab": {
          "base_uri": "https://localhost:8080/",
          "height": 102
        },
        "outputId": "1352c707-b15e-425b-9856-24131831573f"
      },
      "source": [
        "def vowel_checker(data):\n",
        "  vowel=['a','e','i','o','u']\n",
        "  for r in data:\n",
        "    if r in vowel: print(True)\n",
        "    else:\n",
        "      print(False)\n",
        "check=['w','a','r','b','e']\n",
        "vowel_checker(check)"
      ],
      "execution_count": null,
      "outputs": [
        {
          "output_type": "stream",
          "text": [
            "False\n",
            "True\n",
            "False\n",
            "False\n",
            "True\n"
          ],
          "name": "stdout"
        }
      ]
    },
    {
      "cell_type": "code",
      "metadata": {
        "id": "O7qPHZPBTPDi",
        "colab_type": "code",
        "colab": {}
      },
      "source": [
        ""
      ],
      "execution_count": null,
      "outputs": []
    }
  ]
}