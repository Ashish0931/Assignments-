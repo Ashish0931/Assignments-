{
  "nbformat": 4,
  "nbformat_minor": 0,
  "metadata": {
    "colab": {
      "name": "Assignment _python _1.ipynb",
      "provenance": [],
      "collapsed_sections": [],
      "include_colab_link": true
    },
    "kernelspec": {
      "name": "python3",
      "display_name": "Python 3"
    }
  },
  "cells": [
    {
      "cell_type": "markdown",
      "metadata": {
        "id": "view-in-github",
        "colab_type": "text"
      },
      "source": [
        "<a href=\"https://colab.research.google.com/github/Ashish0931/Assignments-/blob/master/Assignment_python1.ipynb\" target=\"_parent\"><img src=\"https://colab.research.google.com/assets/colab-badge.svg\" alt=\"Open In Colab\"/></a>"
      ]
    },
    {
      "cell_type": "markdown",
      "metadata": {
        "id": "HquopaCjx5IE",
        "colab_type": "text"
      },
      "source": [
        "Question 1 "
      ]
    },
    {
      "cell_type": "code",
      "metadata": {
        "id": "F_06z6AIs4Vz",
        "colab_type": "code",
        "colab": {
          "base_uri": "https://localhost:8080/",
          "height": 54
        },
        "outputId": "de45e952-16fd-4261-9577-bd417e7d47d3"
      },
      "source": [
        "for i in range(2000,3201):\n",
        "  if i%7==0 and i%5!=0:\n",
        "    print(i,',',end='')\n",
        "    "
      ],
      "execution_count": null,
      "outputs": [
        {
          "output_type": "stream",
          "text": [
            "2002 ,2009 ,2016 ,2023 ,2037 ,2044 ,2051 ,2058 ,2072 ,2079 ,2086 ,2093 ,2107 ,2114 ,2121 ,2128 ,2142 ,2149 ,2156 ,2163 ,2177 ,2184 ,2191 ,2198 ,2212 ,2219 ,2226 ,2233 ,2247 ,2254 ,2261 ,2268 ,2282 ,2289 ,2296 ,2303 ,2317 ,2324 ,2331 ,2338 ,2352 ,2359 ,2366 ,2373 ,2387 ,2394 ,2401 ,2408 ,2422 ,2429 ,2436 ,2443 ,2457 ,2464 ,2471 ,2478 ,2492 ,2499 ,2506 ,2513 ,2527 ,2534 ,2541 ,2548 ,2562 ,2569 ,2576 ,2583 ,2597 ,2604 ,2611 ,2618 ,2632 ,2639 ,2646 ,2653 ,2667 ,2674 ,2681 ,2688 ,2702 ,2709 ,2716 ,2723 ,2737 ,2744 ,2751 ,2758 ,2772 ,2779 ,2786 ,2793 ,2807 ,2814 ,2821 ,2828 ,2842 ,2849 ,2856 ,2863 ,2877 ,2884 ,2891 ,2898 ,2912 ,2919 ,2926 ,2933 ,2947 ,2954 ,2961 ,2968 ,2982 ,2989 ,2996 ,3003 ,3017 ,3024 ,3031 ,3038 ,3052 ,3059 ,3066 ,3073 ,3087 ,3094 ,3101 ,3108 ,3122 ,3129 ,3136 ,3143 ,3157 ,3164 ,3171 ,3178 ,3192 ,3199 ,"
          ],
          "name": "stdout"
        }
      ]
    },
    {
      "cell_type": "markdown",
      "metadata": {
        "id": "q2SZgKOPx_yj",
        "colab_type": "text"
      },
      "source": [
        "Question 2 "
      ]
    },
    {
      "cell_type": "code",
      "metadata": {
        "id": "dKdLC1x9wHaB",
        "colab_type": "code",
        "colab": {
          "base_uri": "https://localhost:8080/",
          "height": 391
        },
        "outputId": "0dbea58c-629d-43b7-944b-da3cf6d69528"
      },
      "source": [
        "name=[]\n",
        "def username():\n",
        "  print(\"enter the first name\")\n",
        "  firstname=input()\n",
        "  print(\"enter the lastname\")\n",
        "  lastname=input()\n",
        "  totalname=firstname+' '+lastname \n",
        "  name.append(totalname)\n",
        "  print(\"your firstname and last name are\",firstname,lastname)\n",
        "i=1\n",
        "counter=0\n",
        "while True:\n",
        "  if i==1:\n",
        "    username()\n",
        "    print(\"if you want to continue press 1, else press 0\")\n",
        "    i=int(input())\n",
        "    counter+=1\n",
        "  else:\n",
        "    break\n",
        "print(\"names in reverse order is \",name[::-1])"
      ],
      "execution_count": null,
      "outputs": [
        {
          "output_type": "stream",
          "text": [
            "enter the first name\n",
            "f1\n",
            "enter the lastname\n",
            "\n",
            "your firstname and last name are f1 \n",
            "if you want to continue press 1, else press 0\n",
            "1\n",
            "enter the first name\n",
            "f2\n",
            "enter the lastname\n",
            "l2\n",
            "your firstname and last name are f2 l2\n",
            "if you want to continue press 1, else press 0\n",
            "1\n",
            "enter the first name\n",
            "f3\n",
            "enter the lastname\n",
            "l3\n",
            "your firstname and last name are f3 l3\n",
            "if you want to continue press 1, else press 0\n",
            "0\n",
            "name in reverse order is  ['f3 l3', 'f2 l2', 'f1 ']\n"
          ],
          "name": "stdout"
        }
      ]
    },
    {
      "cell_type": "markdown",
      "metadata": {
        "id": "GHYEkpIrIcxt",
        "colab_type": "text"
      },
      "source": [
        "Question 3"
      ]
    },
    {
      "cell_type": "code",
      "metadata": {
        "id": "7OB21-VHIcSm",
        "colab_type": "code",
        "colab": {
          "base_uri": "https://localhost:8080/",
          "height": 34
        },
        "outputId": "beff2c60-2803-4f10-b14c-1ec1d6c4bed0"
      },
      "source": [
        "#volume of a sphere \n",
        "def volume(r):\n",
        "  vol=4/3*3.1415926535897931*r**3\n",
        "  return  vol\n",
        "diameter=12\n",
        "radius=diameter/2\n",
        "val=volume(radius)\n",
        "print(\"volume is \",val,\"cms\")"
      ],
      "execution_count": null,
      "outputs": [
        {
          "output_type": "stream",
          "text": [
            "volume is  904.7786842338603 cms\n"
          ],
          "name": "stdout"
        }
      ]
    }
  ]
}