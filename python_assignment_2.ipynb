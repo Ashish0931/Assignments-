{
  "nbformat": 4,
  "nbformat_minor": 0,
  "metadata": {
    "colab": {
      "name": "Untitled8.ipynb",
      "provenance": [],
      "authorship_tag": "ABX9TyPPLPnrmLdjkR8dxKZee9gf"
    },
    "kernelspec": {
      "name": "python3",
      "display_name": "Python 3"
    }
  },
  "cells": [
    {
      "cell_type": "markdown",
      "metadata": {
        "id": "2OZNozw28A66",
        "colab_type": "text"
      },
      "source": [
        "Question 1 "
      ]
    },
    {
      "cell_type": "code",
      "metadata": {
        "id": "ROvF_drx8Ail",
        "colab_type": "code",
        "colab": {
          "base_uri": "https://localhost:8080/",
          "height": 204
        },
        "outputId": "5035ce75-35e9-43f1-d983-5605ae95be86"
      },
      "source": [
        "for i in range(6):\n",
        "  print(i*\"*\")\n",
        "  if i ==5:\n",
        "    for j in range(4,-1,-1):\n",
        "      print(j*\"*\")"
      ],
      "execution_count": 4,
      "outputs": [
        {
          "output_type": "stream",
          "text": [
            "\n",
            "*\n",
            "**\n",
            "***\n",
            "****\n",
            "*****\n",
            "****\n",
            "***\n",
            "**\n",
            "*\n",
            "\n"
          ],
          "name": "stdout"
        }
      ]
    },
    {
      "cell_type": "markdown",
      "metadata": {
        "id": "VmNkPhix8-Ib",
        "colab_type": "text"
      },
      "source": [
        "Question 2 "
      ]
    },
    {
      "cell_type": "code",
      "metadata": {
        "id": "KPvfX7OU89sr",
        "colab_type": "code",
        "colab": {
          "base_uri": "https://localhost:8080/",
          "height": 68
        },
        "outputId": "bc5a32bc-e60b-4428-ceb8-4f55fa88c649"
      },
      "source": [
        "def reverse(word):\n",
        "  st=\"\"\n",
        "  for i in range(len(word)-1,-1,-1):\n",
        "    st+=word[i]\n",
        "  print(st)\n",
        "\n",
        "user_input=input(print(\"please enter a word \"))\n",
        "reverse(user_input)"
      ],
      "execution_count": 16,
      "outputs": [
        {
          "output_type": "stream",
          "text": [
            "please enter a word \n",
            "ineuron\n",
            "norueni\n"
          ],
          "name": "stdout"
        }
      ]
    },
    {
      "cell_type": "code",
      "metadata": {
        "id": "Zl8mTEqA70jA",
        "colab_type": "code",
        "colab": {}
      },
      "source": [
        ""
      ],
      "execution_count": null,
      "outputs": []
    }
  ]
}