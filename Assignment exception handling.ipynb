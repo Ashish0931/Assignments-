{
  "nbformat": 4,
  "nbformat_minor": 0,
  "metadata": {
    "colab": {
      "name": "Untitled6.ipynb",
      "provenance": [],
      "collapsed_sections": [],
      "authorship_tag": "ABX9TyMR6tdZ6UmnrH0WX72ddh81"
    },
    "kernelspec": {
      "name": "python3",
      "display_name": "Python 3"
    }
  },
  "cells": [
    {
      "cell_type": "markdown",
      "metadata": {
        "id": "KDefkP2ek5Ws",
        "colab_type": "text"
      },
      "source": [
        "Question 1 "
      ]
    },
    {
      "cell_type": "code",
      "metadata": {
        "id": "FgQ87sjt1bU0",
        "colab_type": "code",
        "colab": {
          "base_uri": "https://localhost:8080/",
          "height": 34
        },
        "outputId": "bf2cd75d-9e96-4495-fdef-b70e29648e56"
      },
      "source": [
        "try:\n",
        "  5/0\n",
        "except Exception as e:\n",
        "  print(e,'error. Please check the code')"
      ],
      "execution_count": null,
      "outputs": [
        {
          "output_type": "stream",
          "text": [
            "division by zero error. Please check the code\n"
          ],
          "name": "stdout"
        }
      ]
    },
    {
      "cell_type": "markdown",
      "metadata": {
        "id": "3SEEPIBGk7Wx",
        "colab_type": "text"
      },
      "source": [
        "Question 2 "
      ]
    },
    {
      "cell_type": "code",
      "metadata": {
        "id": "HbmDBlCp1kiv",
        "colab_type": "code",
        "colab": {}
      },
      "source": [
        "ls1=[\"Americans\", \"Indians\"]\n",
        "ls2=[\"Play\", \"watch\"]\n",
        "ls3=[\"Baseball\",\"cricket\"]"
      ],
      "execution_count": 35,
      "outputs": []
    },
    {
      "cell_type": "code",
      "metadata": {
        "id": "Y86JcsiId55Q",
        "colab_type": "code",
        "colab": {}
      },
      "source": [
        "def set(l1,l2,l3):\n",
        "  for i in l1:\n",
        "    for j in l2:\n",
        "      for k in l3:\n",
        "        print(i,j,k)"
      ],
      "execution_count": 44,
      "outputs": []
    },
    {
      "cell_type": "code",
      "metadata": {
        "id": "P45pzarXhFx6",
        "colab_type": "code",
        "colab": {
          "base_uri": "https://localhost:8080/",
          "height": 153
        },
        "outputId": "5589b96c-5b16-4645-cd9a-d354834a0135"
      },
      "source": [
        "set(ls1,ls2,ls3)"
      ],
      "execution_count": 45,
      "outputs": [
        {
          "output_type": "stream",
          "text": [
            "Americans Play Baseball\n",
            "Americans Play cricket\n",
            "Americans watch Baseball\n",
            "Americans watch cricket\n",
            "Indians Play Baseball\n",
            "Indians Play cricket\n",
            "Indians watch Baseball\n",
            "Indians watch cricket\n"
          ],
          "name": "stdout"
        }
      ]
    }
  ]
}